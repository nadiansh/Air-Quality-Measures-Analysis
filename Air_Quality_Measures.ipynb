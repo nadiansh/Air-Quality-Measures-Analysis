{
 "cells": [
  {
   "cell_type": "code",
   "execution_count": 18,
   "id": "03089099-00c3-48d3-9861-af20339d7eea",
   "metadata": {},
   "outputs": [
    {
     "data": {
      "text/html": [
       "<div>\n",
       "<style scoped>\n",
       "    .dataframe tbody tr th:only-of-type {\n",
       "        vertical-align: middle;\n",
       "    }\n",
       "\n",
       "    .dataframe tbody tr th {\n",
       "        vertical-align: top;\n",
       "    }\n",
       "\n",
       "    .dataframe thead th {\n",
       "        text-align: right;\n",
       "    }\n",
       "</style>\n",
       "<table border=\"1\" class=\"dataframe\">\n",
       "  <thead>\n",
       "    <tr style=\"text-align: right;\">\n",
       "      <th></th>\n",
       "      <th>MeasureId</th>\n",
       "      <th>MeasureName</th>\n",
       "      <th>MeasureType</th>\n",
       "      <th>StratificationLevel</th>\n",
       "      <th>StateFips</th>\n",
       "      <th>StateName</th>\n",
       "      <th>CountyFips</th>\n",
       "      <th>CountyName</th>\n",
       "      <th>ReportYear</th>\n",
       "      <th>Value</th>\n",
       "      <th>Unit</th>\n",
       "      <th>UnitName</th>\n",
       "      <th>DataOrigin</th>\n",
       "      <th>MonitorOnly</th>\n",
       "    </tr>\n",
       "  </thead>\n",
       "  <tbody>\n",
       "    <tr>\n",
       "      <th>0</th>\n",
       "      <td>83</td>\n",
       "      <td>Number of days with maximum 8-hour average ozo...</td>\n",
       "      <td>Counts</td>\n",
       "      <td>State x County</td>\n",
       "      <td>1</td>\n",
       "      <td>Alabama</td>\n",
       "      <td>1027</td>\n",
       "      <td>Clay</td>\n",
       "      <td>1999</td>\n",
       "      <td>33.0</td>\n",
       "      <td>No Units</td>\n",
       "      <td>No Units</td>\n",
       "      <td>Monitor Only</td>\n",
       "      <td>1</td>\n",
       "    </tr>\n",
       "    <tr>\n",
       "      <th>1</th>\n",
       "      <td>83</td>\n",
       "      <td>Number of days with maximum 8-hour average ozo...</td>\n",
       "      <td>Counts</td>\n",
       "      <td>State x County</td>\n",
       "      <td>1</td>\n",
       "      <td>Alabama</td>\n",
       "      <td>1051</td>\n",
       "      <td>Elmore</td>\n",
       "      <td>1999</td>\n",
       "      <td>5.0</td>\n",
       "      <td>No Units</td>\n",
       "      <td>No Units</td>\n",
       "      <td>Monitor Only</td>\n",
       "      <td>1</td>\n",
       "    </tr>\n",
       "    <tr>\n",
       "      <th>2</th>\n",
       "      <td>83</td>\n",
       "      <td>Number of days with maximum 8-hour average ozo...</td>\n",
       "      <td>Counts</td>\n",
       "      <td>State x County</td>\n",
       "      <td>1</td>\n",
       "      <td>Alabama</td>\n",
       "      <td>1073</td>\n",
       "      <td>Jefferson</td>\n",
       "      <td>1999</td>\n",
       "      <td>39.0</td>\n",
       "      <td>No Units</td>\n",
       "      <td>No Units</td>\n",
       "      <td>Monitor Only</td>\n",
       "      <td>1</td>\n",
       "    </tr>\n",
       "    <tr>\n",
       "      <th>3</th>\n",
       "      <td>83</td>\n",
       "      <td>Number of days with maximum 8-hour average ozo...</td>\n",
       "      <td>Counts</td>\n",
       "      <td>State x County</td>\n",
       "      <td>1</td>\n",
       "      <td>Alabama</td>\n",
       "      <td>1079</td>\n",
       "      <td>Lawrence</td>\n",
       "      <td>1999</td>\n",
       "      <td>28.0</td>\n",
       "      <td>No Units</td>\n",
       "      <td>No Units</td>\n",
       "      <td>Monitor Only</td>\n",
       "      <td>1</td>\n",
       "    </tr>\n",
       "    <tr>\n",
       "      <th>4</th>\n",
       "      <td>83</td>\n",
       "      <td>Number of days with maximum 8-hour average ozo...</td>\n",
       "      <td>Counts</td>\n",
       "      <td>State x County</td>\n",
       "      <td>1</td>\n",
       "      <td>Alabama</td>\n",
       "      <td>1089</td>\n",
       "      <td>Madison</td>\n",
       "      <td>1999</td>\n",
       "      <td>31.0</td>\n",
       "      <td>No Units</td>\n",
       "      <td>No Units</td>\n",
       "      <td>Monitor Only</td>\n",
       "      <td>1</td>\n",
       "    </tr>\n",
       "  </tbody>\n",
       "</table>\n",
       "</div>"
      ],
      "text/plain": [
       "   MeasureId                                        MeasureName MeasureType  \\\n",
       "0         83  Number of days with maximum 8-hour average ozo...      Counts   \n",
       "1         83  Number of days with maximum 8-hour average ozo...      Counts   \n",
       "2         83  Number of days with maximum 8-hour average ozo...      Counts   \n",
       "3         83  Number of days with maximum 8-hour average ozo...      Counts   \n",
       "4         83  Number of days with maximum 8-hour average ozo...      Counts   \n",
       "\n",
       "  StratificationLevel  StateFips StateName  CountyFips CountyName  ReportYear  \\\n",
       "0      State x County          1   Alabama        1027       Clay        1999   \n",
       "1      State x County          1   Alabama        1051     Elmore        1999   \n",
       "2      State x County          1   Alabama        1073  Jefferson        1999   \n",
       "3      State x County          1   Alabama        1079   Lawrence        1999   \n",
       "4      State x County          1   Alabama        1089    Madison        1999   \n",
       "\n",
       "   Value      Unit  UnitName    DataOrigin  MonitorOnly  \n",
       "0   33.0  No Units  No Units  Monitor Only            1  \n",
       "1    5.0  No Units  No Units  Monitor Only            1  \n",
       "2   39.0  No Units  No Units  Monitor Only            1  \n",
       "3   28.0  No Units  No Units  Monitor Only            1  \n",
       "4   31.0  No Units  No Units  Monitor Only            1  "
      ]
     },
     "execution_count": 18,
     "metadata": {},
     "output_type": "execute_result"
    }
   ],
   "source": [
    "import pandas as pd\n",
    "import numpy as np\n",
    "\n",
    "import seaborn as sns\n",
    "import matplotlib.pyplot as plt\n",
    "df = pd.read_csv(\"Air_Quality_Measures_on_the_National_Environmental_Health_Tracking_Network.csv\")\n",
    "df.head()"
   ]
  },
  {
   "cell_type": "code",
   "execution_count": 19,
   "id": "45043608-09e2-4d9d-99c7-ae207248df37",
   "metadata": {},
   "outputs": [
    {
     "name": "stdout",
     "output_type": "stream",
     "text": [
      "<class 'pandas.core.frame.DataFrame'>\n",
      "RangeIndex: 218635 entries, 0 to 218634\n",
      "Data columns (total 14 columns):\n",
      " #   Column               Non-Null Count   Dtype  \n",
      "---  ------               --------------   -----  \n",
      " 0   MeasureId            218635 non-null  int64  \n",
      " 1   MeasureName          218635 non-null  object \n",
      " 2   MeasureType          218635 non-null  object \n",
      " 3   StratificationLevel  218635 non-null  object \n",
      " 4   StateFips            218635 non-null  int64  \n",
      " 5   StateName            218635 non-null  object \n",
      " 6   CountyFips           218635 non-null  int64  \n",
      " 7   CountyName           218635 non-null  object \n",
      " 8   ReportYear           218635 non-null  int64  \n",
      " 9   Value                218635 non-null  float64\n",
      " 10  Unit                 218635 non-null  object \n",
      " 11  UnitName             218635 non-null  object \n",
      " 12  DataOrigin           218635 non-null  object \n",
      " 13  MonitorOnly          218635 non-null  int64  \n",
      "dtypes: float64(1), int64(5), object(8)\n",
      "memory usage: 23.4+ MB\n"
     ]
    },
    {
     "data": {
      "text/html": [
       "<div>\n",
       "<style scoped>\n",
       "    .dataframe tbody tr th:only-of-type {\n",
       "        vertical-align: middle;\n",
       "    }\n",
       "\n",
       "    .dataframe tbody tr th {\n",
       "        vertical-align: top;\n",
       "    }\n",
       "\n",
       "    .dataframe thead th {\n",
       "        text-align: right;\n",
       "    }\n",
       "</style>\n",
       "<table border=\"1\" class=\"dataframe\">\n",
       "  <thead>\n",
       "    <tr style=\"text-align: right;\">\n",
       "      <th></th>\n",
       "      <th>MeasureId</th>\n",
       "      <th>StateFips</th>\n",
       "      <th>CountyFips</th>\n",
       "      <th>ReportYear</th>\n",
       "      <th>Value</th>\n",
       "      <th>MonitorOnly</th>\n",
       "    </tr>\n",
       "  </thead>\n",
       "  <tbody>\n",
       "    <tr>\n",
       "      <th>count</th>\n",
       "      <td>218635.000000</td>\n",
       "      <td>218635.000000</td>\n",
       "      <td>218635.000000</td>\n",
       "      <td>218635.000000</td>\n",
       "      <td>2.186350e+05</td>\n",
       "      <td>218635.000000</td>\n",
       "    </tr>\n",
       "    <tr>\n",
       "      <th>mean</th>\n",
       "      <td>248.436979</td>\n",
       "      <td>30.228980</td>\n",
       "      <td>30328.039536</td>\n",
       "      <td>2005.997777</td>\n",
       "      <td>6.499649e+05</td>\n",
       "      <td>0.383950</td>\n",
       "    </tr>\n",
       "    <tr>\n",
       "      <th>std</th>\n",
       "      <td>86.333124</td>\n",
       "      <td>15.139346</td>\n",
       "      <td>15157.173159</td>\n",
       "      <td>3.432221</td>\n",
       "      <td>1.160826e+07</td>\n",
       "      <td>0.486347</td>\n",
       "    </tr>\n",
       "    <tr>\n",
       "      <th>min</th>\n",
       "      <td>83.000000</td>\n",
       "      <td>1.000000</td>\n",
       "      <td>1001.000000</td>\n",
       "      <td>1999.000000</td>\n",
       "      <td>0.000000e+00</td>\n",
       "      <td>0.000000</td>\n",
       "    </tr>\n",
       "    <tr>\n",
       "      <th>25%</th>\n",
       "      <td>292.000000</td>\n",
       "      <td>18.000000</td>\n",
       "      <td>18146.000000</td>\n",
       "      <td>2003.000000</td>\n",
       "      <td>0.000000e+00</td>\n",
       "      <td>0.000000</td>\n",
       "    </tr>\n",
       "    <tr>\n",
       "      <th>50%</th>\n",
       "      <td>293.000000</td>\n",
       "      <td>29.000000</td>\n",
       "      <td>29189.000000</td>\n",
       "      <td>2006.000000</td>\n",
       "      <td>2.000000e+00</td>\n",
       "      <td>0.000000</td>\n",
       "    </tr>\n",
       "    <tr>\n",
       "      <th>75%</th>\n",
       "      <td>295.000000</td>\n",
       "      <td>45.000000</td>\n",
       "      <td>45021.000000</td>\n",
       "      <td>2009.000000</td>\n",
       "      <td>1.394105e+01</td>\n",
       "      <td>1.000000</td>\n",
       "    </tr>\n",
       "    <tr>\n",
       "      <th>max</th>\n",
       "      <td>296.000000</td>\n",
       "      <td>56.000000</td>\n",
       "      <td>56045.000000</td>\n",
       "      <td>2013.000000</td>\n",
       "      <td>1.084153e+09</td>\n",
       "      <td>1.000000</td>\n",
       "    </tr>\n",
       "  </tbody>\n",
       "</table>\n",
       "</div>"
      ],
      "text/plain": [
       "           MeasureId      StateFips     CountyFips     ReportYear  \\\n",
       "count  218635.000000  218635.000000  218635.000000  218635.000000   \n",
       "mean      248.436979      30.228980   30328.039536    2005.997777   \n",
       "std        86.333124      15.139346   15157.173159       3.432221   \n",
       "min        83.000000       1.000000    1001.000000    1999.000000   \n",
       "25%       292.000000      18.000000   18146.000000    2003.000000   \n",
       "50%       293.000000      29.000000   29189.000000    2006.000000   \n",
       "75%       295.000000      45.000000   45021.000000    2009.000000   \n",
       "max       296.000000      56.000000   56045.000000    2013.000000   \n",
       "\n",
       "              Value    MonitorOnly  \n",
       "count  2.186350e+05  218635.000000  \n",
       "mean   6.499649e+05       0.383950  \n",
       "std    1.160826e+07       0.486347  \n",
       "min    0.000000e+00       0.000000  \n",
       "25%    0.000000e+00       0.000000  \n",
       "50%    2.000000e+00       0.000000  \n",
       "75%    1.394105e+01       1.000000  \n",
       "max    1.084153e+09       1.000000  "
      ]
     },
     "execution_count": 19,
     "metadata": {},
     "output_type": "execute_result"
    }
   ],
   "source": [
    "df.columns  \n",
    "df.info()  \n",
    "df.describe()  "
   ]
  },
  {
   "cell_type": "code",
   "execution_count": 20,
   "id": "037dfefe-96da-4ffe-9104-5cfac797968d",
   "metadata": {},
   "outputs": [
    {
     "data": {
      "text/plain": [
       "51"
      ]
     },
     "execution_count": 20,
     "metadata": {},
     "output_type": "execute_result"
    }
   ],
   "source": [
    "# How many states are represented?\n",
    "df['StateName'].nunique()"
   ]
  },
  {
   "cell_type": "code",
   "execution_count": 21,
   "id": "6e3feccb-db9a-4cfe-896f-c089d434dbc6",
   "metadata": {},
   "outputs": [
    {
     "data": {
      "text/plain": [
       "StateName\n",
       "Texas             15651\n",
       "Georgia           10213\n",
       "Virginia           8739\n",
       "Kentucky           8218\n",
       "North Carolina     7812\n",
       "Name: count, dtype: int64"
      ]
     },
     "execution_count": 21,
     "metadata": {},
     "output_type": "execute_result"
    }
   ],
   "source": [
    "# Top 5 states with most records\n",
    "df['StateName'].value_counts().head()"
   ]
  },
  {
   "cell_type": "code",
   "execution_count": 23,
   "id": "511214ff-e107-44f0-8089-b6f31da13936",
   "metadata": {},
   "outputs": [
    {
     "data": {
      "text/plain": [
       "1084153095.0"
      ]
     },
     "execution_count": 23,
     "metadata": {},
     "output_type": "execute_result"
    }
   ],
   "source": [
    "#  What is the highest AQI value recorded?\n",
    "df['Value'].max()"
   ]
  },
  {
   "cell_type": "code",
   "execution_count": 24,
   "id": "cdf58f77-719a-446c-80b6-4b027d7e2f81",
   "metadata": {},
   "outputs": [
    {
     "data": {
      "text/plain": [
       "0.0"
      ]
     },
     "execution_count": 24,
     "metadata": {},
     "output_type": "execute_result"
    }
   ],
   "source": [
    "#  What is the lowest AQI value recorded?\n",
    "df['Value'].min()"
   ]
  },
  {
   "cell_type": "code",
   "execution_count": 25,
   "id": "55ea3cbb-e251-466f-931c-f5766ab4055d",
   "metadata": {},
   "outputs": [
    {
     "data": {
      "text/plain": [
       "CountyName  StateName\n",
       "Lake        Indiana      130\n",
       "Outagamie   Wisconsin    130\n",
       "Scott       Iowa         130\n",
       "Ottawa      Michigan     130\n",
       "Fayette     Kentucky     130\n",
       "dtype: int64"
      ]
     },
     "execution_count": 25,
     "metadata": {},
     "output_type": "execute_result"
    }
   ],
   "source": [
    "#  Top 5 counties with most air quality records\n",
    "df.groupby(['CountyName', 'StateName']).size().sort_values(ascending=False).head()"
   ]
  },
  {
   "cell_type": "code",
   "execution_count": 28,
   "id": "b50268f9-283e-4005-8e7b-a18b6770e928",
   "metadata": {},
   "outputs": [
    {
     "data": {
      "text/plain": [
       "StateName\n",
       "California              1.663044e+07\n",
       "Arizona                 5.257151e+06\n",
       "District of Columbia    4.546460e+06\n",
       "Connecticut             3.078840e+06\n",
       "New Jersey              3.032619e+06\n",
       "Name: Value, dtype: float64"
      ]
     },
     "execution_count": 28,
     "metadata": {},
     "output_type": "execute_result"
    }
   ],
   "source": [
    "# States with highest average ozone levels\n",
    "ozone.groupby('StateName')['Value'].mean().sort_values(ascending=False).head()"
   ]
  },
  {
   "cell_type": "code",
   "execution_count": 40,
   "id": "214d2204-bcfc-4b22-9ff8-6f2c6ae8e2c0",
   "metadata": {},
   "outputs": [
    {
     "name": "stdout",
     "output_type": "stream",
     "text": [
      "[1999, 2000, 2001, 2002, 2003, 2004, 2005, 2006, 2007, 2008, 2009, 2010, 2011, 2012, 2013]\n"
     ]
    }
   ],
   "source": [
    "# list of years with ozone data\n",
    "ozone_years = sorted(ozone['ReportYear'].unique())\n",
    "print(ozone_years)"
   ]
  },
  {
   "cell_type": "code",
   "execution_count": 30,
   "id": "66a5e147-8b7f-443e-ba6b-58bb4d6cd85d",
   "metadata": {},
   "outputs": [
    {
     "data": {
      "image/png": "[encoded data removed]",
      "text/plain": [
       "<Figure size 1200x600 with 1 Axes>"
      ]
     },
     "metadata": {},
     "output_type": "display_data"
    }
   ],
   "source": [
    "# Top 10 counties in Virginia with highest ozone days in 2010\n",
    "bar_data = df[(df['StateName'] == 'Virginia') &\n",
    "              (df['ReportYear'] == 2010) &\n",
    "              (df['MeasureName'].str.contains(\"ozone\"))]\n",
    "\n",
    "bar_data = bar_data.sort_values(by='Value', ascending=False).head(10)\n",
    "\n",
    "plt.figure(figsize=(12, 6))\n",
    "sns.barplot(data=bar_data, x='CountyName', y='Value')\n",
    "plt.title(\"Top 10 Virginia Counties by Ozone Days (2010)\")\n",
    "plt.ylabel(\"Number of Days\")\n",
    "plt.xlabel(\"County\")\n",
    "plt.xticks(rotation=45)\n",
    "plt.tight_layout()\n",
    "plt.show()\n"
   ]
  },
  {
   "cell_type": "code",
   "execution_count": null,
   "id": "b0a83a78-a61a-47b5-8e28-e3818f0b3577",
   "metadata": {},
   "outputs": [],
   "source": []
  }
 ],
 "metadata": {
  "kernelspec": {
   "display_name": "Python [conda env:base] *",
   "language": "python",
   "name": "conda-base-py"
  },
  "language_info": {
   "codemirror_mode": {
    "name": "ipython",
    "version": 3
   },
   "file_extension": ".py",
   "mimetype": "text/x-python",
   "name": "python",
   "nbconvert_exporter": "python",
   "pygments_lexer": "ipython3",
   "version": "3.12.7"
  }
 },
 "nbformat": 4,
 "nbformat_minor": 5
}
